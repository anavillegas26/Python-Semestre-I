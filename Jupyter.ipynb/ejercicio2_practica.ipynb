{
 "cells": [
  {
   "cell_type": "code",
   "execution_count": 65,
   "id": "da774a0a",
   "metadata": {},
   "outputs": [],
   "source": [
    "import numpy as np\n",
    "import pandas as pd\n",
    "import matplotlib.pyplot as plt"
   ]
  },
  {
   "cell_type": "code",
   "execution_count": 66,
   "id": "3f9dcaf8",
   "metadata": {},
   "outputs": [
    {
     "data": {
      "text/html": [
       "<div>\n",
       "<style scoped>\n",
       "    .dataframe tbody tr th:only-of-type {\n",
       "        vertical-align: middle;\n",
       "    }\n",
       "\n",
       "    .dataframe tbody tr th {\n",
       "        vertical-align: top;\n",
       "    }\n",
       "\n",
       "    .dataframe thead th {\n",
       "        text-align: right;\n",
       "    }\n",
       "</style>\n",
       "<table border=\"1\" class=\"dataframe\">\n",
       "  <thead>\n",
       "    <tr style=\"text-align: right;\">\n",
       "      <th></th>\n",
       "      <th>Author(s)</th>\n",
       "      <th>Original language</th>\n",
       "      <th>First published</th>\n",
       "      <th>Approximate sales in millions</th>\n",
       "      <th>Genre</th>\n",
       "    </tr>\n",
       "    <tr>\n",
       "      <th>Book</th>\n",
       "      <th></th>\n",
       "      <th></th>\n",
       "      <th></th>\n",
       "      <th></th>\n",
       "      <th></th>\n",
       "    </tr>\n",
       "  </thead>\n",
       "  <tbody>\n",
       "    <tr>\n",
       "      <th>A Tale of Two Cities</th>\n",
       "      <td>Charles Dickens</td>\n",
       "      <td>English</td>\n",
       "      <td>1859</td>\n",
       "      <td>200.0</td>\n",
       "      <td>Historical fiction</td>\n",
       "    </tr>\n",
       "    <tr>\n",
       "      <th>The Little Prince (Le Petit Prince)</th>\n",
       "      <td>Antoine de Saint-Exupéry</td>\n",
       "      <td>French</td>\n",
       "      <td>1943</td>\n",
       "      <td>200.0</td>\n",
       "      <td>Novella</td>\n",
       "    </tr>\n",
       "    <tr>\n",
       "      <th>Harry Potter and the Philosopher's Stone</th>\n",
       "      <td>J. K. Rowling</td>\n",
       "      <td>English</td>\n",
       "      <td>1997</td>\n",
       "      <td>120.0</td>\n",
       "      <td>Fantasy</td>\n",
       "    </tr>\n",
       "    <tr>\n",
       "      <th>And Then There Were None</th>\n",
       "      <td>Agatha Christie</td>\n",
       "      <td>English</td>\n",
       "      <td>1939</td>\n",
       "      <td>100.0</td>\n",
       "      <td>Mystery</td>\n",
       "    </tr>\n",
       "    <tr>\n",
       "      <th>Dream of the Red Chamber (紅樓夢)</th>\n",
       "      <td>Cao Xueqin</td>\n",
       "      <td>Chinese</td>\n",
       "      <td>1791</td>\n",
       "      <td>100.0</td>\n",
       "      <td>Family saga</td>\n",
       "    </tr>\n",
       "  </tbody>\n",
       "</table>\n",
       "</div>"
      ],
      "text/plain": [
       "                                                         Author(s)  \\\n",
       "Book                                                                 \n",
       "A Tale of Two Cities                               Charles Dickens   \n",
       "The Little Prince (Le Petit Prince)       Antoine de Saint-Exupéry   \n",
       "Harry Potter and the Philosopher's Stone             J. K. Rowling   \n",
       "And Then There Were None                           Agatha Christie   \n",
       "Dream of the Red Chamber (紅樓夢)                          Cao Xueqin   \n",
       "\n",
       "                                         Original language  First published  \\\n",
       "Book                                                                          \n",
       "A Tale of Two Cities                               English             1859   \n",
       "The Little Prince (Le Petit Prince)                 French             1943   \n",
       "Harry Potter and the Philosopher's Stone           English             1997   \n",
       "And Then There Were None                           English             1939   \n",
       "Dream of the Red Chamber (紅樓夢)                     Chinese             1791   \n",
       "\n",
       "                                          Approximate sales in millions  \\\n",
       "Book                                                                      \n",
       "A Tale of Two Cities                                              200.0   \n",
       "The Little Prince (Le Petit Prince)                               200.0   \n",
       "Harry Potter and the Philosopher's Stone                          120.0   \n",
       "And Then There Were None                                          100.0   \n",
       "Dream of the Red Chamber (紅樓夢)                                    100.0   \n",
       "\n",
       "                                                       Genre  \n",
       "Book                                                          \n",
       "A Tale of Two Cities                      Historical fiction  \n",
       "The Little Prince (Le Petit Prince)                  Novella  \n",
       "Harry Potter and the Philosopher's Stone             Fantasy  \n",
       "And Then There Were None                             Mystery  \n",
       "Dream of the Red Chamber (紅樓夢)                   Family saga  "
      ]
     },
     "execution_count": 66,
     "metadata": {},
     "output_type": "execute_result"
    }
   ],
   "source": [
    "df = pd.read_csv(\"Data/libros.csv\",index_col='Book')\n",
    "df.head()"
   ]
  },
  {
   "cell_type": "code",
   "execution_count": 67,
   "id": "1363be69",
   "metadata": {},
   "outputs": [
    {
     "name": "stdout",
     "output_type": "stream",
     "text": [
      "<class 'pandas.core.frame.DataFrame'>\n",
      "Index: 174 entries, A Tale of Two Cities to Bridget Jones's Diary\n",
      "Data columns (total 5 columns):\n",
      " #   Column                         Non-Null Count  Dtype  \n",
      "---  ------                         --------------  -----  \n",
      " 0   Author(s)                      174 non-null    object \n",
      " 1   Original language              174 non-null    object \n",
      " 2   First published                174 non-null    int64  \n",
      " 3   Approximate sales in millions  174 non-null    float64\n",
      " 4   Genre                          118 non-null    object \n",
      "dtypes: float64(1), int64(1), object(3)\n",
      "memory usage: 8.2+ KB\n"
     ]
    }
   ],
   "source": [
    "df.info()"
   ]
  },
  {
   "cell_type": "code",
   "execution_count": 84,
   "id": "e9ccf60b",
   "metadata": {},
   "outputs": [
    {
     "data": {
      "text/html": [
       "<div>\n",
       "<style scoped>\n",
       "    .dataframe tbody tr th:only-of-type {\n",
       "        vertical-align: middle;\n",
       "    }\n",
       "\n",
       "    .dataframe tbody tr th {\n",
       "        vertical-align: top;\n",
       "    }\n",
       "\n",
       "    .dataframe thead th {\n",
       "        text-align: right;\n",
       "    }\n",
       "</style>\n",
       "<table border=\"1\" class=\"dataframe\">\n",
       "  <thead>\n",
       "    <tr style=\"text-align: right;\">\n",
       "      <th></th>\n",
       "      <th>First published</th>\n",
       "      <th>Approximate sales in millions</th>\n",
       "    </tr>\n",
       "  </thead>\n",
       "  <tbody>\n",
       "    <tr>\n",
       "      <th>count</th>\n",
       "      <td>174.000000</td>\n",
       "      <td>174.000000</td>\n",
       "    </tr>\n",
       "    <tr>\n",
       "      <th>mean</th>\n",
       "      <td>1962.522989</td>\n",
       "      <td>30.097126</td>\n",
       "    </tr>\n",
       "    <tr>\n",
       "      <th>std</th>\n",
       "      <td>64.268737</td>\n",
       "      <td>27.957985</td>\n",
       "    </tr>\n",
       "    <tr>\n",
       "      <th>min</th>\n",
       "      <td>1304.000000</td>\n",
       "      <td>10.000000</td>\n",
       "    </tr>\n",
       "    <tr>\n",
       "      <th>25%</th>\n",
       "      <td>1947.000000</td>\n",
       "      <td>14.000000</td>\n",
       "    </tr>\n",
       "    <tr>\n",
       "      <th>50%</th>\n",
       "      <td>1974.000000</td>\n",
       "      <td>20.000000</td>\n",
       "    </tr>\n",
       "    <tr>\n",
       "      <th>75%</th>\n",
       "      <td>1995.000000</td>\n",
       "      <td>36.300000</td>\n",
       "    </tr>\n",
       "    <tr>\n",
       "      <th>max</th>\n",
       "      <td>2018.000000</td>\n",
       "      <td>200.000000</td>\n",
       "    </tr>\n",
       "  </tbody>\n",
       "</table>\n",
       "</div>"
      ],
      "text/plain": [
       "       First published  Approximate sales in millions\n",
       "count       174.000000                     174.000000\n",
       "mean       1962.522989                      30.097126\n",
       "std          64.268737                      27.957985\n",
       "min        1304.000000                      10.000000\n",
       "25%        1947.000000                      14.000000\n",
       "50%        1974.000000                      20.000000\n",
       "75%        1995.000000                      36.300000\n",
       "max        2018.000000                     200.000000"
      ]
     },
     "execution_count": 84,
     "metadata": {},
     "output_type": "execute_result"
    }
   ],
   "source": [
    "df.describe()"
   ]
  },
  {
   "cell_type": "code",
   "execution_count": 69,
   "id": "2bb56789",
   "metadata": {},
   "outputs": [
    {
     "name": "stdout",
     "output_type": "stream",
     "text": [
      "No se encontraro duplicados\n",
      "Dimensiones tras el paso de los duplicados: (174, 5)\n"
     ]
    }
   ],
   "source": [
    "duplicados = df.duplicated().sum()\n",
    "if duplicados > 0:\n",
    "    print(f\"Se encontraron duplicados:{duplicados},procediendo a eliminarlos\")\n",
    "    df.drop_duplicates(implace=True)\n",
    "else:\n",
    "    print(\"No se encontraro duplicados\")\n",
    "print(\"Dimensiones tras el paso de los duplicados:\",df.shape)"
   ]
  },
  {
   "cell_type": "code",
   "execution_count": 70,
   "id": "252eb0fc",
   "metadata": {},
   "outputs": [
    {
     "name": "stdout",
     "output_type": "stream",
     "text": [
      "56\n"
     ]
    }
   ],
   "source": [
    "nulos_columnas =df.isnull().sum()\n",
    "nulos_filas = df[df.isnull().any(axis=1)]\n",
    "total_nulos = nulos_columnas.sum()\n",
    "print(total_nulos)"
   ]
  },
  {
   "cell_type": "code",
   "execution_count": 71,
   "id": "5aff41d4",
   "metadata": {},
   "outputs": [
    {
     "name": "stdout",
     "output_type": "stream",
     "text": [
      "Remplazo nulos por Novella\n"
     ]
    }
   ],
   "source": [
    "if nulos_columnas[\"Genre\"] > 0:\n",
    "    df[\"Genre\"]= df[\"Genre\"].fillna(\"Novella\")\n",
    "    print(\"Remplazo nulos por Novella\")\n",
    "else:\n",
    "    print(\"No hay valores nulos que reemplazar\")"
   ]
  },
  {
   "cell_type": "code",
   "execution_count": 72,
   "id": "ce747aa7",
   "metadata": {},
   "outputs": [
    {
     "data": {
      "text/html": [
       "<div>\n",
       "<style scoped>\n",
       "    .dataframe tbody tr th:only-of-type {\n",
       "        vertical-align: middle;\n",
       "    }\n",
       "\n",
       "    .dataframe tbody tr th {\n",
       "        vertical-align: top;\n",
       "    }\n",
       "\n",
       "    .dataframe thead th {\n",
       "        text-align: right;\n",
       "    }\n",
       "</style>\n",
       "<table border=\"1\" class=\"dataframe\">\n",
       "  <thead>\n",
       "    <tr style=\"text-align: right;\">\n",
       "      <th></th>\n",
       "      <th>First published</th>\n",
       "      <th>Approximate sales in millions</th>\n",
       "    </tr>\n",
       "  </thead>\n",
       "  <tbody>\n",
       "    <tr>\n",
       "      <th>count</th>\n",
       "      <td>174.000000</td>\n",
       "      <td>174.000000</td>\n",
       "    </tr>\n",
       "    <tr>\n",
       "      <th>mean</th>\n",
       "      <td>1962.522989</td>\n",
       "      <td>30.097126</td>\n",
       "    </tr>\n",
       "    <tr>\n",
       "      <th>std</th>\n",
       "      <td>64.268737</td>\n",
       "      <td>27.957985</td>\n",
       "    </tr>\n",
       "    <tr>\n",
       "      <th>min</th>\n",
       "      <td>1304.000000</td>\n",
       "      <td>10.000000</td>\n",
       "    </tr>\n",
       "    <tr>\n",
       "      <th>25%</th>\n",
       "      <td>1947.000000</td>\n",
       "      <td>14.000000</td>\n",
       "    </tr>\n",
       "    <tr>\n",
       "      <th>50%</th>\n",
       "      <td>1974.000000</td>\n",
       "      <td>20.000000</td>\n",
       "    </tr>\n",
       "    <tr>\n",
       "      <th>75%</th>\n",
       "      <td>1995.000000</td>\n",
       "      <td>36.300000</td>\n",
       "    </tr>\n",
       "    <tr>\n",
       "      <th>max</th>\n",
       "      <td>2018.000000</td>\n",
       "      <td>200.000000</td>\n",
       "    </tr>\n",
       "  </tbody>\n",
       "</table>\n",
       "</div>"
      ],
      "text/plain": [
       "       First published  Approximate sales in millions\n",
       "count       174.000000                     174.000000\n",
       "mean       1962.522989                      30.097126\n",
       "std          64.268737                      27.957985\n",
       "min        1304.000000                      10.000000\n",
       "25%        1947.000000                      14.000000\n",
       "50%        1974.000000                      20.000000\n",
       "75%        1995.000000                      36.300000\n",
       "max        2018.000000                     200.000000"
      ]
     },
     "execution_count": 72,
     "metadata": {},
     "output_type": "execute_result"
    }
   ],
   "source": [
    "df.describe()"
   ]
  },
  {
   "cell_type": "code",
   "execution_count": 73,
   "id": "d17e5b1c",
   "metadata": {},
   "outputs": [],
   "source": [
    "medias =[1962.52,30.09]\n",
    "columnas = [\"First published\" ,\"Approximate sales in millions\"]"
   ]
  },
  {
   "cell_type": "code",
   "execution_count": 74,
   "id": "792e4f11",
   "metadata": {},
   "outputs": [
    {
     "data": {
      "text/plain": [
       "<function matplotlib.pyplot.show(close=None, block=None)>"
      ]
     },
     "execution_count": 74,
     "metadata": {},
     "output_type": "execute_result"
    },
    {
     "data": {
      "image/png": "[encoded data removed]",
      "text/plain": [
       "<Figure size 640x480 with 1 Axes>"
      ]
     },
     "metadata": {},
     "output_type": "display_data"
    }
   ],
   "source": [
    "\n",
    "plt.bar(columnas,medias,color=[\"skyblue\",\"lightcoral\"])\n",
    "plt.xlabel(\"Dinero ganado\")\n",
    "plt.ylabel(\"Año de publicación\")\n",
    "plt.tight_layout\n",
    "plt.show"
   ]
  },
  {
   "cell_type": "code",
   "execution_count": 86,
   "id": "1d4ae993",
   "metadata": {},
   "outputs": [
    {
     "data": {
      "image/png": "[encoded data removed]",
      "text/plain": [
       "<Figure size 400x400 with 1 Axes>"
      ]
     },
     "metadata": {},
     "output_type": "display_data"
    }
   ],
   "source": [
    "\n",
    "plt.figure(figsize=(4,4))\n",
    "plt.pie(medias, labels=columnas,autopct=\"%1.1f%%\",colors=[\"lime\",\"orange\"],startangle=90)\n",
    "plt.title(\"Gráfico Circular\")    \n",
    "plt.tight_layout()\n",
    "plt.axis('equal') \n",
    "plt.show()"
   ]
  },
  {
   "cell_type": "code",
   "execution_count": null,
   "id": "ca8a3cc3",
   "metadata": {},
   "outputs": [
    {
     "data": {
      "text/plain": [
       "<function matplotlib.pyplot.show(close=None, block=None)>"
      ]
     },
     "execution_count": 83,
     "metadata": {},
     "output_type": "execute_result"
    },
    {
     "data": {
      "image/png": "[encoded data removed]",
      "text/plain": [
       "<Figure size 400x600 with 1 Axes>"
      ]
     },
     "metadata": {},
     "output_type": "display_data"
    }
   ],
   "source": [
    "plt.figure(figsize=(4,6)) \n",
    "plt.plot(columnas,medias,marker='o', linestyle='-',color='teal') #marker dibuja circulo en la linea\n",
    "# linestyle = une los puntos y colr= asigna un color a linea y puntos\n",
    "plt.title(\"Gráfico de lineal\")\n",
    "plt.xlabel(\"Dinero ganado\")\n",
    "plt.ylabel(\"Año de publicación\")\n",
    "plt.tight_layout # ajusta para que no se sobrepongan\n",
    "plt.grid(True) # añade cuadricula suave\n",
    "plt.show"
   ]
  }
 ],
 "metadata": {
  "kernelspec": {
   "display_name": "Python 3",
   "language": "python",
   "name": "python3"
  },
  "language_info": {
   "codemirror_mode": {
    "name": "ipython",
    "version": 3
   },
   "file_extension": ".py",
   "mimetype": "text/x-python",
   "name": "python",
   "nbconvert_exporter": "python",
   "pygments_lexer": "ipython3",
   "version": "3.13.5"
  }
 },
 "nbformat": 4,
 "nbformat_minor": 5
}
