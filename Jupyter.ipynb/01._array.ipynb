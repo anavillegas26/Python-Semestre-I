{
 "cells": [
  {
   "cell_type": "code",
   "execution_count": 18,
   "id": "846ad0c2",
   "metadata": {},
   "outputs": [],
   "source": [
    "import numpy as np #np es un alias de numpy"
   ]
  },
  {
   "cell_type": "code",
   "execution_count": 19,
   "id": "9482a2ac",
   "metadata": {},
   "outputs": [],
   "source": [
    "import pandas as pd"
   ]
  },
  {
   "cell_type": "code",
   "execution_count": 20,
   "id": "8b1870fd",
   "metadata": {},
   "outputs": [],
   "source": [
    "import matplotlib.pyplot as plt"
   ]
  },
  {
   "cell_type": "code",
   "execution_count": 21,
   "id": "1175da19",
   "metadata": {},
   "outputs": [],
   "source": [
    "import sys"
   ]
  },
  {
   "cell_type": "code",
   "execution_count": 4,
   "id": "ba3f7616",
   "metadata": {},
   "outputs": [
    {
     "name": "stdout",
     "output_type": "stream",
     "text": [
      "Hello Word\n"
     ]
    }
   ],
   "source": [
    "print(\"Hello Word\")\n"
   ]
  },
  {
   "cell_type": "code",
   "execution_count": 5,
   "id": "5810bb5f",
   "metadata": {},
   "outputs": [
    {
     "data": {
      "text/plain": [
       "[1, 2, 3, 4, 5, 6, 7, 8, 9, 10]"
      ]
     },
     "execution_count": 5,
     "metadata": {},
     "output_type": "execute_result"
    }
   ],
   "source": [
    "lista1 = list(range(1,11))\n",
    "lista1"
   ]
  },
  {
   "cell_type": "code",
   "execution_count": 6,
   "id": "b5269f45",
   "metadata": {},
   "outputs": [
    {
     "data": {
      "text/plain": [
       "np.float64(5.5)"
      ]
     },
     "execution_count": 6,
     "metadata": {},
     "output_type": "execute_result"
    }
   ],
   "source": [
    "promedio = np.mean(lista1)\n",
    "promedio\n"
   ]
  },
  {
   "cell_type": "markdown",
   "id": "717464f1",
   "metadata": {},
   "source": [
    "**Cambiando lista a array**"
   ]
  },
  {
   "cell_type": "code",
   "execution_count": 7,
   "id": "3d8209a6",
   "metadata": {},
   "outputs": [
    {
     "data": {
      "text/plain": [
       "array([ 1,  2,  3,  4,  5,  6,  7,  8,  9, 10])"
      ]
     },
     "execution_count": 7,
     "metadata": {},
     "output_type": "execute_result"
    }
   ],
   "source": [
    "arreglo = np.array(lista1)\n",
    "arreglo"
   ]
  },
  {
   "cell_type": "code",
   "execution_count": 8,
   "id": "3003747e",
   "metadata": {},
   "outputs": [
    {
     "data": {
      "text/plain": [
       "numpy.ndarray"
      ]
     },
     "execution_count": 8,
     "metadata": {},
     "output_type": "execute_result"
    }
   ],
   "source": [
    "type(arreglo)"
   ]
  },
  {
   "cell_type": "markdown",
   "id": "5762092c",
   "metadata": {},
   "source": [
    "**creando lista solo de unos**"
   ]
  },
  {
   "cell_type": "code",
   "execution_count": 13,
   "id": "647edd21",
   "metadata": {},
   "outputs": [
    {
     "data": {
      "text/plain": [
       "array([1., 1., 1., 1., 1., 1., 1., 1., 1., 1., 1., 1., 1., 1., 1., 1., 1.,\n",
       "       1., 1., 1., 1., 1., 1., 1., 1., 1., 1., 1., 1., 1., 1., 1., 1., 1.,\n",
       "       1., 1., 1., 1., 1., 1., 1., 1., 1., 1., 1., 1., 1., 1., 1., 1., 1.,\n",
       "       1., 1., 1., 1., 1., 1., 1., 1., 1., 1., 1., 1., 1., 1., 1., 1., 1.,\n",
       "       1., 1., 1., 1., 1., 1., 1., 1., 1., 1., 1., 1., 1., 1., 1., 1., 1.,\n",
       "       1., 1., 1., 1., 1., 1., 1., 1., 1., 1., 1., 1., 1., 1., 1.])"
      ]
     },
     "execution_count": 13,
     "metadata": {},
     "output_type": "execute_result"
    }
   ],
   "source": [
    "unos = np.ones(100)\n",
    "unos"
   ]
  },
  {
   "cell_type": "code",
   "execution_count": null,
   "id": "de3dc042",
   "metadata": {},
   "outputs": [],
   "source": []
  },
  {
   "cell_type": "markdown",
   "id": "ccfae792",
   "metadata": {},
   "source": [
    "**consultando el tipo de dato**"
   ]
  },
  {
   "cell_type": "code",
   "execution_count": 14,
   "id": "b62a715b",
   "metadata": {},
   "outputs": [
    {
     "data": {
      "text/plain": [
       "list"
      ]
     },
     "execution_count": 14,
     "metadata": {},
     "output_type": "execute_result"
    }
   ],
   "source": [
    "type(lista1)"
   ]
  },
  {
   "cell_type": "markdown",
   "id": "c62c9be1",
   "metadata": {},
   "source": [
    "**consultando el tipo de dato numerico**"
   ]
  },
  {
   "cell_type": "code",
   "execution_count": 22,
   "id": "138c9d71",
   "metadata": {},
   "outputs": [
    {
     "data": {
      "text/plain": [
       "dtype('int64')"
      ]
     },
     "execution_count": 22,
     "metadata": {},
     "output_type": "execute_result"
    }
   ],
   "source": [
    "arreglo.dtype"
   ]
  },
  {
   "cell_type": "markdown",
   "id": "5179063e",
   "metadata": {},
   "source": [
    "**Lista de Datos Compuesto**"
   ]
  },
  {
   "cell_type": "code",
   "execution_count": 24,
   "id": "119a0e84",
   "metadata": {},
   "outputs": [
    {
     "data": {
      "text/plain": [
       "list['Leonardo', 'viernes', 12, 9.5, True]"
      ]
     },
     "execution_count": 24,
     "metadata": {},
     "output_type": "execute_result"
    }
   ],
   "source": [
    "lista2 = list['Leonardo', 'viernes', 12, 9.5, True]\n",
    "lista2"
   ]
  },
  {
   "cell_type": "code",
   "execution_count": 10,
   "id": "39efcc6e",
   "metadata": {},
   "outputs": [
    {
     "data": {
      "text/plain": [
       "array(list['Leonardo', 'viernes', 12, 9.5, True], dtype=object)"
      ]
     },
     "execution_count": 10,
     "metadata": {},
     "output_type": "execute_result"
    }
   ],
   "source": [
    "arreglo1 = np.array(lista2) # cambiando lista 2 a array\n",
    "arreglo1"
   ]
  },
  {
   "cell_type": "code",
   "execution_count": 12,
   "id": "9aca565d",
   "metadata": {},
   "outputs": [
    {
     "data": {
      "text/plain": [
       "numpy.ndarray"
      ]
     },
     "execution_count": 12,
     "metadata": {},
     "output_type": "execute_result"
    }
   ],
   "source": [
    "type(arreglo1)"
   ]
  },
  {
   "cell_type": "code",
   "execution_count": 14,
   "id": "d7b0c81e",
   "metadata": {},
   "outputs": [
    {
     "data": {
      "text/plain": [
       "dtype('O')"
      ]
     },
     "execution_count": 14,
     "metadata": {},
     "output_type": "execute_result"
    }
   ],
   "source": [
    "arreglo1.dtype"
   ]
  },
  {
   "cell_type": "code",
   "execution_count": 26,
   "id": "8d029db4",
   "metadata": {},
   "outputs": [
    {
     "data": {
      "text/plain": [
       "list[12, 20, 4, 6, 7, 8, 9]"
      ]
     },
     "execution_count": 26,
     "metadata": {},
     "output_type": "execute_result"
    }
   ],
   "source": [
    "lista3 = list[12,20,4,6,7,8,9]\n",
    "lista3"
   ]
  },
  {
   "cell_type": "code",
   "execution_count": 27,
   "id": "e3a2f1e7",
   "metadata": {},
   "outputs": [
    {
     "data": {
      "text/plain": [
       "array(list[12, 20, 4, 6, 7, 8, 9], dtype=object)"
      ]
     },
     "execution_count": 27,
     "metadata": {},
     "output_type": "execute_result"
    }
   ],
   "source": [
    "arreglo2 = np.array(lista3)\n",
    "arreglo2"
   ]
  },
  {
   "cell_type": "code",
   "execution_count": 28,
   "id": "8deefccc",
   "metadata": {},
   "outputs": [
    {
     "data": {
      "text/plain": [
       "numpy.ndarray"
      ]
     },
     "execution_count": 28,
     "metadata": {},
     "output_type": "execute_result"
    }
   ],
   "source": [
    "type(arreglo2)"
   ]
  },
  {
   "cell_type": "markdown",
   "id": "1094a42f",
   "metadata": {},
   "source": [
    "**tranformando entero a float**"
   ]
  },
  {
   "cell_type": "code",
   "execution_count": 29,
   "id": "308b46e3",
   "metadata": {},
   "outputs": [
    {
     "data": {
      "text/plain": [
       "array([ 1.,  2.,  3.,  4.,  5.,  6.,  7.,  8.,  9., 10.], dtype=float16)"
      ]
     },
     "execution_count": 29,
     "metadata": {},
     "output_type": "execute_result"
    }
   ],
   "source": [
    "new_arreglo = arreglo.astype(np.float16)\n",
    "new_arreglo"
   ]
  },
  {
   "cell_type": "code",
   "execution_count": 30,
   "id": "7f017c8a",
   "metadata": {},
   "outputs": [
    {
     "data": {
      "text/plain": [
       "0.4773652731187531"
      ]
     },
     "execution_count": 30,
     "metadata": {},
     "output_type": "execute_result"
    }
   ],
   "source": [
    "np.random.rand()  #genera numeros aleatorios de [0,1]"
   ]
  },
  {
   "cell_type": "code",
   "execution_count": 31,
   "id": "4e088714",
   "metadata": {},
   "outputs": [
    {
     "data": {
      "text/plain": [
       "array([0.9904469 , 0.37806526, 0.25624145, 0.13554491, 0.65459781])"
      ]
     },
     "execution_count": 31,
     "metadata": {},
     "output_type": "execute_result"
    }
   ],
   "source": [
    "np.random.rand(5) # genera n catidad de numeros"
   ]
  },
  {
   "cell_type": "code",
   "execution_count": 33,
   "id": "85a5db6f",
   "metadata": {},
   "outputs": [
    {
     "data": {
      "text/plain": [
       "array([26, 81, 21, 28, 14, 76, 15, 71, 15, 45, 88, 39, 17, 61, 81],\n",
       "      dtype=int32)"
      ]
     },
     "execution_count": 33,
     "metadata": {},
     "output_type": "execute_result"
    }
   ],
   "source": [
    "np.random.randint(1,100,15) # genera 10 numeros aleatorios del 1 al 100"
   ]
  },
  {
   "cell_type": "code",
   "execution_count": 35,
   "id": "ee010933",
   "metadata": {},
   "outputs": [
    {
     "data": {
      "text/plain": [
       "array([ 1,  2,  3,  4,  5,  6,  7,  8,  9, 10])"
      ]
     },
     "execution_count": 35,
     "metadata": {},
     "output_type": "execute_result"
    }
   ],
   "source": [
    "arreglo4 = np.arange(1,11)\n",
    "arreglo4"
   ]
  },
  {
   "cell_type": "code",
   "execution_count": 37,
   "id": "e49de742",
   "metadata": {},
   "outputs": [
    {
     "data": {
      "text/plain": [
       "array([[91, 56,  7,  5, 83, 51, 79, 42, 97, 29],\n",
       "       [83, 15,  1, 77, 37, 86, 65, 20, 25, 41],\n",
       "       [54, 88, 55, 24,  2, 80, 13, 63, 14, 15],\n",
       "       [27, 71, 58, 20, 47, 39, 78, 53,  1, 81],\n",
       "       [18, 77, 65, 52, 41, 40, 81, 27, 70,  9]], dtype=int32)"
      ]
     },
     "execution_count": 37,
     "metadata": {},
     "output_type": "execute_result"
    }
   ],
   "source": [
    "arreglo5 = np.random.randint(1,101,(5,10))\n",
    "arreglo5"
   ]
  },
  {
   "cell_type": "code",
   "execution_count": 38,
   "id": "fd8b7e4e",
   "metadata": {},
   "outputs": [
    {
     "data": {
      "text/plain": [
       "array([0, 0, 0, 0, 0, 0, 0, 0, 0, 0], dtype=int32)"
      ]
     },
     "execution_count": 38,
     "metadata": {},
     "output_type": "execute_result"
    }
   ],
   "source": [
    "arreglo6 = np.random.choice(1,10)\n",
    "arreglo6"
   ]
  },
  {
   "cell_type": "code",
   "execution_count": 44,
   "id": "00ed1fea",
   "metadata": {},
   "outputs": [
    {
     "name": "stdout",
     "output_type": "stream",
     "text": [
      "(5, 10)\n"
     ]
    }
   ],
   "source": [
    "print(arreglo5.shape)"
   ]
  },
  {
   "cell_type": "code",
   "execution_count": 45,
   "id": "c0d223a2",
   "metadata": {},
   "outputs": [
    {
     "name": "stdout",
     "output_type": "stream",
     "text": [
      "<built-in method reshape of numpy.ndarray object at 0x000002C2FB9660D0>\n"
     ]
    }
   ],
   "source": [
    "print(arreglo6.reshape)"
   ]
  }
 ],
 "metadata": {
  "kernelspec": {
   "display_name": "Python 3",
   "language": "python",
   "name": "python3"
  },
  "language_info": {
   "codemirror_mode": {
    "name": "ipython",
    "version": 3
   },
   "file_extension": ".py",
   "mimetype": "text/x-python",
   "name": "python",
   "nbconvert_exporter": "python",
   "pygments_lexer": "ipython3",
   "version": "3.13.5"
  }
 },
 "nbformat": 4,
 "nbformat_minor": 5
}
