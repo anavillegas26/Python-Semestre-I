{
 "cells": [
  {
   "cell_type": "code",
   "execution_count": 8,
   "id": "846ad0c2",
   "metadata": {},
   "outputs": [],
   "source": [
    "import numpy as np #np es un alias de numpy"
   ]
  },
  {
   "cell_type": "code",
   "execution_count": 9,
   "id": "9482a2ac",
   "metadata": {},
   "outputs": [],
   "source": [
    "import pandas as pd"
   ]
  },
  {
   "cell_type": "code",
   "execution_count": 10,
   "id": "8b1870fd",
   "metadata": {},
   "outputs": [],
   "source": [
    "import matplotlib.pyplot as plt"
   ]
  },
  {
   "cell_type": "code",
   "execution_count": 1,
   "id": "1175da19",
   "metadata": {},
   "outputs": [],
   "source": [
    "import sys"
   ]
  },
  {
   "cell_type": "code",
   "execution_count": 2,
   "id": "ba3f7616",
   "metadata": {},
   "outputs": [
    {
     "name": "stdout",
     "output_type": "stream",
     "text": [
      "Hello Word\n"
     ]
    }
   ],
   "source": [
    "print(\"Hello Word\")\n"
   ]
  },
  {
   "cell_type": "code",
   "execution_count": 5,
   "id": "5810bb5f",
   "metadata": {},
   "outputs": [
    {
     "data": {
      "text/plain": [
       "[1, 2, 3, 4, 5, 6, 7, 8, 9, 10]"
      ]
     },
     "execution_count": 5,
     "metadata": {},
     "output_type": "execute_result"
    }
   ],
   "source": [
    "lista1 = list(range(1,11))\n",
    "lista1"
   ]
  },
  {
   "cell_type": "code",
   "execution_count": 11,
   "id": "b5269f45",
   "metadata": {},
   "outputs": [
    {
     "data": {
      "text/plain": [
       "np.float64(5.5)"
      ]
     },
     "execution_count": 11,
     "metadata": {},
     "output_type": "execute_result"
    }
   ],
   "source": [
    "promedio = np.mean(lista1)\n",
    "promedio\n"
   ]
  },
  {
   "cell_type": "markdown",
   "id": "717464f1",
   "metadata": {},
   "source": [
    "**Cambiando lista a array**"
   ]
  },
  {
   "cell_type": "code",
   "execution_count": 12,
   "id": "3d8209a6",
   "metadata": {},
   "outputs": [
    {
     "data": {
      "text/plain": [
       "array([ 1,  2,  3,  4,  5,  6,  7,  8,  9, 10])"
      ]
     },
     "execution_count": 12,
     "metadata": {},
     "output_type": "execute_result"
    }
   ],
   "source": [
    "arreglo = np.array(lista1)\n",
    "arreglo"
   ]
  },
  {
   "cell_type": "markdown",
   "id": "5762092c",
   "metadata": {},
   "source": [
    "**creando lista solo de unos**"
   ]
  },
  {
   "cell_type": "code",
   "execution_count": 13,
   "id": "647edd21",
   "metadata": {},
   "outputs": [
    {
     "data": {
      "text/plain": [
       "array([1., 1., 1., 1., 1., 1., 1., 1., 1., 1., 1., 1., 1., 1., 1., 1., 1.,\n",
       "       1., 1., 1., 1., 1., 1., 1., 1., 1., 1., 1., 1., 1., 1., 1., 1., 1.,\n",
       "       1., 1., 1., 1., 1., 1., 1., 1., 1., 1., 1., 1., 1., 1., 1., 1., 1.,\n",
       "       1., 1., 1., 1., 1., 1., 1., 1., 1., 1., 1., 1., 1., 1., 1., 1., 1.,\n",
       "       1., 1., 1., 1., 1., 1., 1., 1., 1., 1., 1., 1., 1., 1., 1., 1., 1.,\n",
       "       1., 1., 1., 1., 1., 1., 1., 1., 1., 1., 1., 1., 1., 1., 1.])"
      ]
     },
     "execution_count": 13,
     "metadata": {},
     "output_type": "execute_result"
    }
   ],
   "source": [
    "unos = np.ones(100)\n",
    "unos"
   ]
  },
  {
   "cell_type": "code",
   "execution_count": null,
   "id": "de3dc042",
   "metadata": {},
   "outputs": [],
   "source": []
  },
  {
   "cell_type": "markdown",
   "id": "ccfae792",
   "metadata": {},
   "source": [
    "**consultando el tipo de dato**"
   ]
  },
  {
   "cell_type": "code",
   "execution_count": 14,
   "id": "b62a715b",
   "metadata": {},
   "outputs": [
    {
     "data": {
      "text/plain": [
       "list"
      ]
     },
     "execution_count": 14,
     "metadata": {},
     "output_type": "execute_result"
    }
   ],
   "source": [
    "type(lista1)"
   ]
  },
  {
   "cell_type": "markdown",
   "id": "c62c9be1",
   "metadata": {},
   "source": [
    "**consultando el tipo de dato numerico**"
   ]
  },
  {
   "cell_type": "code",
   "execution_count": 15,
   "id": "138c9d71",
   "metadata": {},
   "outputs": [
    {
     "data": {
      "text/plain": [
       "dtype('int64')"
      ]
     },
     "execution_count": 15,
     "metadata": {},
     "output_type": "execute_result"
    }
   ],
   "source": [
    "arreglo.dtype"
   ]
  },
  {
   "cell_type": "markdown",
   "id": "5179063e",
   "metadata": {},
   "source": [
    "**Lista de Datos Compuesto**"
   ]
  },
  {
   "cell_type": "code",
   "execution_count": 25,
   "id": "119a0e84",
   "metadata": {},
   "outputs": [
    {
     "data": {
      "text/plain": [
       "list['Leonardo', 'viernes', 12, 9.5, True]"
      ]
     },
     "execution_count": 25,
     "metadata": {},
     "output_type": "execute_result"
    }
   ],
   "source": [
    "lista2 = list['Leonardo', 'viernes', 12, 9.5, True]\n",
    "lista2"
   ]
  },
  {
   "cell_type": "code",
   "execution_count": null,
   "id": "39efcc6e",
   "metadata": {},
   "outputs": [
    {
     "data": {
      "text/plain": [
       "array(list['Leo', 'viernes', 12, 9.5, True], dtype=object)"
      ]
     },
     "execution_count": 19,
     "metadata": {},
     "output_type": "execute_result"
    }
   ],
   "source": [
    "arreglo1 = np.array(lista2) # camciando lista [] a array\n",
    "arreglo1"
   ]
  },
  {
   "cell_type": "code",
   "execution_count": 23,
   "id": "8d029db4",
   "metadata": {},
   "outputs": [
    {
     "data": {
      "text/plain": [
       "list[12, 20, 4, 6, 7, 8, 9]"
      ]
     },
     "execution_count": 23,
     "metadata": {},
     "output_type": "execute_result"
    }
   ],
   "source": [
    "lista3 = list[12,20,4,6,7,8,9]\n",
    "lista3"
   ]
  },
  {
   "cell_type": "code",
   "execution_count": 24,
   "id": "e3a2f1e7",
   "metadata": {},
   "outputs": [
    {
     "data": {
      "text/plain": [
       "array(list[12, 20, 4, 6, 7, 8, 9], dtype=object)"
      ]
     },
     "execution_count": 24,
     "metadata": {},
     "output_type": "execute_result"
    }
   ],
   "source": [
    "arreglo2 = np.array(lista3)\n",
    "arreglo2"
   ]
  },
  {
   "cell_type": "code",
   "execution_count": 30,
   "id": "8deefccc",
   "metadata": {},
   "outputs": [
    {
     "data": {
      "text/plain": [
       "numpy.ndarray"
      ]
     },
     "execution_count": 30,
     "metadata": {},
     "output_type": "execute_result"
    }
   ],
   "source": [
    "type(arreglo2)"
   ]
  },
  {
   "cell_type": "markdown",
   "id": "1094a42f",
   "metadata": {},
   "source": [
    "**tranformando entero a float**"
   ]
  },
  {
   "cell_type": "code",
   "execution_count": 33,
   "id": "308b46e3",
   "metadata": {},
   "outputs": [
    {
     "data": {
      "text/plain": [
       "array([ 1.,  2.,  3.,  4.,  5.,  6.,  7.,  8.,  9., 10.], dtype=float16)"
      ]
     },
     "execution_count": 33,
     "metadata": {},
     "output_type": "execute_result"
    }
   ],
   "source": [
    "new_arreglo = arreglo.astype(np.float16)\n",
    "new_arreglo"
   ]
  },
  {
   "cell_type": "code",
   "execution_count": null,
   "id": "7f017c8a",
   "metadata": {},
   "outputs": [
    {
     "data": {
      "text/plain": [
       "0.4162887778490222"
      ]
     },
     "execution_count": 34,
     "metadata": {},
     "output_type": "execute_result"
    }
   ],
   "source": [
    "np.random.rand()  #genera numeros aleatorios de [0,1]"
   ]
  },
  {
   "cell_type": "code",
   "execution_count": null,
   "id": "4e088714",
   "metadata": {},
   "outputs": [
    {
     "data": {
      "text/plain": [
       "array([0.66074125, 0.74166266, 0.65951211, 0.25221316, 0.30313737])"
      ]
     },
     "execution_count": 35,
     "metadata": {},
     "output_type": "execute_result"
    }
   ],
   "source": [
    "np.random.rand(5) # genera n catidad de numeros"
   ]
  },
  {
   "cell_type": "code",
   "execution_count": null,
   "id": "85a5db6f",
   "metadata": {},
   "outputs": [
    {
     "data": {
      "text/plain": [
       "array([66, 18, 63, 20, 31,  7, 99, 68, 27, 81], dtype=int32)"
      ]
     },
     "execution_count": 36,
     "metadata": {},
     "output_type": "execute_result"
    }
   ],
   "source": [
    "np.random.randint(1,100,10) # genera 10 numeros aleatorios del 1 al 100"
   ]
  },
  {
   "cell_type": "code",
   "execution_count": 47,
   "id": "ee010933",
   "metadata": {},
   "outputs": [
    {
     "data": {
      "text/plain": [
       "array([0., 1.])"
      ]
     },
     "execution_count": 47,
     "metadata": {},
     "output_type": "execute_result"
    }
   ],
   "source": [
    "arreglo4 = np.arange(1.11)\n",
    "arreglo4"
   ]
  },
  {
   "cell_type": "code",
   "execution_count": 50,
   "id": "e49de742",
   "metadata": {},
   "outputs": [
    {
     "data": {
      "text/plain": [
       "array([[ 18,  24,  88,  33,  90,  21,  39, 100,   1,  22],\n",
       "       [ 39,   8,   6,  34,  75,  23,  23,  89,  41,  66],\n",
       "       [ 66,  37,  69,  56,  25,  41,  29,  36,  29,  98],\n",
       "       [ 82,  14,  13,  10,  37,  70,  60,   6,  15,  64],\n",
       "       [ 51,  26,  14,  29,  93,   8,  22,  42,  49,  52],\n",
       "       [ 52,  46,  82,  77,  24,  62,  80,  41,  37,  82],\n",
       "       [ 79,  41,  76,  64,  35,  50,  61,  42,   8,  60],\n",
       "       [ 11,  62,  33,  72,  25,  15,   6,  37,  96,  56],\n",
       "       [ 88,  20,  98,  70,  31,  98,  85,  79,  97,  54],\n",
       "       [  8,  88,  30,  63,  14,  43,  70,  70,  64,  26]], dtype=int32)"
      ]
     },
     "execution_count": 50,
     "metadata": {},
     "output_type": "execute_result"
    }
   ],
   "source": [
    "arreglo5 = np.random.randint(1,101,(10,10))\n",
    "arreglo5"
   ]
  },
  {
   "cell_type": "code",
   "execution_count": 58,
   "id": "fd8b7e4e",
   "metadata": {},
   "outputs": [
    {
     "data": {
      "text/plain": [
       "array([0, 0, 0, 0, 0, 0, 0, 0, 0, 0], dtype=int32)"
      ]
     },
     "execution_count": 58,
     "metadata": {},
     "output_type": "execute_result"
    }
   ],
   "source": [
    "arreglo6 = np.random.choice(1,10)\n",
    "arreglo6"
   ]
  },
  {
   "cell_type": "markdown",
   "id": "df782fe3",
   "metadata": {},
   "source": []
  },
  {
   "cell_type": "code",
   "execution_count": null,
   "id": "bedae1bb",
   "metadata": {},
   "outputs": [],
   "source": []
  }
 ],
 "metadata": {
  "kernelspec": {
   "display_name": "Python 3",
   "language": "python",
   "name": "python3"
  },
  "language_info": {
   "codemirror_mode": {
    "name": "ipython",
    "version": 3
   },
   "file_extension": ".py",
   "mimetype": "text/x-python",
   "name": "python",
   "nbconvert_exporter": "python",
   "pygments_lexer": "ipython3",
   "version": "3.13.5"
  }
 },
 "nbformat": 4,
 "nbformat_minor": 5
}
